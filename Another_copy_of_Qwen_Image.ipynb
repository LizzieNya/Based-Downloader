{
  "nbformat": 4,
  "nbformat_minor": 0,
  "metadata": {
    "colab": {
      "machine_shape": "hm",
      "gpuType": "T4",
      "provenance": [],
      "include_colab_link": true
    },
    "accelerator": "GPU",
    "kaggle": {
      "accelerator": "gpu"
    },
    "language_info": {
      "name": "python"
    },
    "kernelspec": {
      "name": "python3",
      "display_name": "Python 3"
    }
  },
  "cells": [
    {
      "cell_type": "markdown",
      "metadata": {
        "id": "view-in-github",
        "colab_type": "text"
      },
      "source": [
        "<a href=\"https://colab.research.google.com/github/LizzieNya/Based-Downloader/blob/main/Another_copy_of_Qwen_Image.ipynb\" target=\"_parent\"><img src=\"https://colab.research.google.com/assets/colab-badge.svg\" alt=\"Open In Colab\"/></a>"
      ]
    },
    {
      "cell_type": "code",
      "source": [
        "!pip install -U diffusers"
      ],
      "metadata": {
        "id": "jC5K6zTv2JYd"
      },
      "execution_count": null,
      "outputs": []
    },
    {
      "cell_type": "markdown",
      "source": [
        "## Local Inference on GPU\n",
        "Model page: https://huggingface.co/Qwen/Qwen-Image\n",
        "\n",
        "⚠️ If the generated code snippets do not work, please open an issue on either the [model repo](https://huggingface.co/Qwen/Qwen-Image)\n",
        "\t\t\tand/or on [huggingface.js](https://github.com/huggingface/huggingface.js/blob/main/packages/tasks/src/model-libraries-snippets.ts) 🙏"
      ],
      "metadata": {
        "id": "nVtblO1I2JYk"
      }
    },
    {
      "cell_type": "code",
      "source": [
        "from diffusers import DiffusionPipeline\n",
        "import os\n",
        "\n",
        "# Access the Hugging Face token from the environment variables\n",
        "HF_TOKEN = os.environ.get('HF_TOKEN')\n",
        "\n",
        "# Check if the token is available\n",
        "if not HF_TOKEN:\n",
        "    raise ValueError(\"Hugging Face token not found. Please set the HF_TOKEN environment variable.\")\n",
        "\n",
        "pipe = DiffusionPipeline.from_pretrained(\"Qwen/Qwen-Image\", use_auth_token=HF_TOKEN)\n",
        "\n",
        "prompt = \"Astronaut in a jungle, cold color palette, muted colors, detailed, 8k\"\n",
        "image = pipe(prompt).images[0]"
      ],
      "metadata": {
        "id": "dLSiIvls2JYo"
      },
      "execution_count": null,
      "outputs": []
    },
    {
      "cell_type": "code",
      "metadata": {
        "id": "ad4e6ed4"
      },
      "source": [
        "# Set your Hugging Face token as an environment variable\n",
        "# Replace \"YOUR_HF_TOKEN\" with your actual token\n",
        "%env HF_TOKEN=YOUR_HF_TOKEN\n",
        "# DO NOT LEAK API KEYS IN PRODUCTION ! ! !"
      ],
      "execution_count": null,
      "outputs": []
    },
    {
      "cell_type": "code",
      "source": [
        "from google.colab import drive\n",
        "drive.mount('/content/drive')"
      ],
      "metadata": {
        "id": "tFumrTyq3gCa"
      },
      "execution_count": null,
      "outputs": []
    }
  ]
}
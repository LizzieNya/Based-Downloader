{
  "nbformat": 4,
  "nbformat_minor": 0,
  "metadata": {
    "colab": {
      "machine_shape": "hm",
      "gpuType": "T4",
      "provenance": [],
      "include_colab_link": true
    },
    "accelerator": "GPU",
    "kaggle": {
      "accelerator": "gpu"
    },
    "language_info": {
      "name": "python"
    },
    "kernelspec": {
      "name": "python3",
      "display_name": "Python 3"
    }
  },
  "cells": [
    {
      "cell_type": "markdown",
      "metadata": {
        "id": "view-in-github",
        "colab_type": "text"
      },
      "source": [
        "<a href=\"https://colab.research.google.com/github/LizzieNya/Based-Downloader/blob/main/Yet_another_copy_of_Qwen_Image.ipynb\" target=\"_parent\"><img src=\"https://colab.research.google.com/assets/colab-badge.svg\" alt=\"Open In Colab\"/></a>"
      ]
    },
    {
      "cell_type": "code",
      "source": [
        "!pip install -U diffusers"
      ],
      "metadata": {
        "id": "jC5K6zTv2JYd"
      },
      "execution_count": null,
      "outputs": []
    },
    {
      "cell_type": "markdown",
      "source": [
        "## Local Inference on GPU\n",
        "Model page: https://huggingface.co/Qwen/Qwen-Image\n",
        "\n",
        "⚠️ If the generated code snippets do not work, please open an issue on either the [model repo](https://huggingface.co/Qwen/Qwen-Image)\n",
        "\t\t\tand/or on [huggingface.js](https://github.com/huggingface/huggingface.js/blob/main/packages/tasks/src/model-libraries-snippets.ts) 🙏"
      ],
      "metadata": {
        "id": "nVtblO1I2JYk"
      }
    },
    {
      "source": [
        "# Set your Hugging Face token as an environment variable\n",
        "# Replace \"YOUR_HF_TOKEN\" with your actual token\n",
        "%env HF_TOKEN=YOUR_HF_TOKEN\n",
        "# DO NOT LEAK API KEYS IN PRODUCTION ! ! !"
      ],
      "cell_type": "code",
      "metadata": {
        "id": "CBmq8FD_5v7Z"
      },
      "execution_count": null,
      "outputs": []
    },
    {
      "source": [
        "from google.colab import drive\n",
        "drive.mount('/content/drive')"
      ],
      "cell_type": "code",
      "metadata": {
        "id": "U6LDmaCt5zeX"
      },
      "execution_count": null,
      "outputs": []
    },
    {
      "source": [
        "from google.colab import files\n",
        "import shutil\n",
        "import os\n",
        "\n",
        "uploaded = files.upload()\n",
        "\n",
        "for filename in uploaded.keys():\n",
        "    print(f'Uploaded file: {filename}')\n",
        "    # You can save the uploaded file to a specific directory if needed\n",
        "    # For example, to save it in a directory named 'uploaded_images' in your drive:\n",
        "    # destination_dir = '/content/drive/My Drive/uploaded_images'\n",
        "    # os.makedirs(destination_dir, exist_ok=True)\n",
        "    # shutil.move(filename, os.path.join(destination_dir, filename))\n",
        "\n",
        "# Now you can use the uploaded file in the previous cell\n",
        "# For example, if you uploaded an image named 'my_image.jpg':\n",
        "# image_path = 'my_image.jpg'\n",
        "# or if you saved it to your drive:\n",
        "# image_path = '/content/drive/My Drive/uploaded_images/my_image.jpg'\n",
        "\n",
        "# Update the image_path variable in the previous cell accordingly"
      ],
      "cell_type": "code",
      "metadata": {
        "id": "IfV2GklF51G3"
      },
      "execution_count": null,
      "outputs": []
    },
    {
      "source": [
        "from diffusers import DiffusionPipeline\n",
        "import os\n",
        "from PIL import Image\n",
        "\n",
        "# Access the Hugging Face token from the environment variables\n",
        "HF_TOKEN = os.environ.get('HF_TOKEN')\n",
        "\n",
        "# Check if the token is available\n",
        "if not HF_TOKEN:\n",
        "    raise ValueError(\"Hugging Face token not found. Please set the HF_TOKEN environment variable.\")\n",
        "\n",
        "pipe = DiffusionPipeline.from_pretrained(\"Qwen/Qwen-Image\", use_auth_token=HF_TOKEN)\n",
        "\n",
        "# Load an image from your Google Drive or the uploaded file\n",
        "# Replace this path with the actual path to your image\n",
        "# If you uploaded a file named 'my_image.jpg', you can use image_path = 'my_image.jpg'\n",
        "# If you saved the uploaded file to your drive, use the path to that file\n",
        "image_path = '/content/drive/My Drive/path/to/your/image.jpg' # <--- UPDATE THIS LINE\n",
        "input_image = Image.open(image_path)\n",
        "\n",
        "# --- CLEAR AREA TO PUT WHAT YOU WANT THE IMAGE CHANGED TO ---\n",
        "prompt = \"Astronaut in a jungle, cold color palette, muted colors, detailed, 8k\" # <--- CHANGE THIS PROMPT\n",
        "# --- END OF CLEAR AREA ---\n",
        "\n",
        "# Use the pipeline to modify the image with the prompt\n",
        "modified_image = pipe(prompt=prompt, image=input_image).images[0]\n",
        "\n",
        "# Display or save the modified image\n",
        "# Replace this path with where you want to save the modified image\n",
        "modified_image.save('/content/drive/My Drive/path/to/save/modified_image.jpg') # <--- UPDATE THIS LINE\n",
        "print(f\"Modified image saved to: /content/drive/My Drive/path/to/save/modified_image.jpg\")"
      ],
      "cell_type": "code",
      "metadata": {
        "id": "z9EcLo_254Wu"
      },
      "execution_count": null,
      "outputs": []
    },
    {
      "cell_type": "code",
      "source": [
        "from diffusers import DiffusionPipeline\n",
        "import os\n",
        "\n",
        "# Access the Hugging Face token from the environment variables\n",
        "HF_TOKEN = os.environ.get('HF_TOKEN')\n",
        "\n",
        "# Check if the token is available\n",
        "if not HF_TOKEN:\n",
        "    raise ValueError(\"Hugging Face token not found. Please set the HF_TOKEN environment variable.\")\n",
        "\n",
        "pipe = DiffusionPipeline.from_pretrained(\"Qwen/Qwen-Image\", use_auth_token=HF_TOKEN)\n",
        "\n",
        "prompt = \"Astronaut in a jungle, cold color palette, muted colors, detailed, 8k\"\n",
        "image = pipe(prompt).images[0]"
      ],
      "metadata": {
        "id": "dLSiIvls2JYo"
      },
      "execution_count": null,
      "outputs": []
    },
    {
      "cell_type": "code",
      "metadata": {
        "id": "ad4e6ed4"
      },
      "source": [
        "# Set your Hugging Face token as an environment variable\n",
        "# Replace \"YOUR_HF_TOKEN\" with your actual token\n",
        "%env HF_TOKEN=YOUR_HF_TOKEN\n",
        "# DO NOT LEAK API KEYS IN PRODUCTION ! ! !"
      ],
      "execution_count": null,
      "outputs": []
    },
    {
      "cell_type": "code",
      "source": [
        "from google.colab import drive\n",
        "drive.mount('/content/drive')"
      ],
      "metadata": {
        "id": "tFumrTyq3gCa"
      },
      "execution_count": null,
      "outputs": []
    },
    {
      "cell_type": "markdown",
      "metadata": {
        "id": "02536749"
      },
      "source": [
        "## Experimental: Get Image Coordinates on Click\n",
        "This is an experimental feature to help you determine coordinates on an image by clicking. It does not create a mask file directly, but can assist in finding coordinates for manual mask definition if you choose that approach."
      ]
    },
    {
      "cell_type": "code",
      "metadata": {
        "id": "fef4249d"
      },
      "source": [
        "import matplotlib.pyplot as plt\n",
        "import matplotlib.image as mpimg\n",
        "from PIL import Image\n",
        "\n",
        "# Load an image (replace with the path to your image)\n",
        "# You can use the path to the image you uploaded or from your drive\n",
        "image_path = '/content/drive/My Drive/path/to/your/image.jpg' # <--- UPDATE THIS LINE\n",
        "img = mpimg.imread(image_path)\n",
        "\n",
        "def onclick(event):\n",
        "    if event.xdata is not None and event.ydata is not None:\n",
        "        print(f\"Clicked coordinates (x, y): ({event.xdata}, {event.ydata})\")\n",
        "\n",
        "fig, ax = plt.subplots()\n",
        "ax.imshow(img)\n",
        "fig.canvas.mpl_connect('button_press_event', onclick)\n",
        "plt.title(\"Click on the image to get coordinates\")\n",
        "plt.show()\n",
        "\n",
        "# Note: This only prints coordinates. It does not create a mask image.\n",
        "# You would need to use these coordinates manually if you were defining a mask region by coordinates."
      ],
      "execution_count": null,
      "outputs": []
    },
    {
      "cell_type": "code",
      "metadata": {
        "colab": {
          "base_uri": "https://localhost:8080/",
          "height": 315
        },
        "id": "0ccc3305",
        "outputId": "8261fdca-3353-4116-bd99-04e8acb728d5"
      },
      "source": [
        "from PIL import Image, ImageDraw\n",
        "import numpy as np\n",
        "\n",
        "# --- ASSUMING you have the original image loaded as 'input_image' from a previous cell ---\n",
        "# --- AND you have the coordinates from the experimental cell, e.g., (x1, y1) and (x2, y2) ---\n",
        "\n",
        "# Replace with the actual path to your image or use the 'input_image' variable\n",
        "# image_path = '/content/drive/My Drive/path/to/your/image.jpg'\n",
        "# input_image = Image.open(image_path)\n",
        "\n",
        "# Get the dimensions of the original image\n",
        "img_width, img_height = input_image.size\n",
        "\n",
        "# Define the coordinates for the rectangular mask\n",
        "# Replace these with the coordinates you obtained from clicking on the image\n",
        "x1, y1 = 100, 100  # Top-left corner coordinates\n",
        "x2, y2 = 400, 300  # Bottom-right corner coordinates\n",
        "\n",
        "# Create a black mask image with the same dimensions as the original image\n",
        "mask_image = Image.new('L', (img_width, img_height), 0) # 'L' for grayscale, 0 for black\n",
        "\n",
        "# Draw a white rectangle on the mask image using the defined coordinates\n",
        "draw = ImageDraw.Draw(mask_image)\n",
        "draw.rectangle([(x1, y1), (x2, y2)], fill=255) # 255 for white\n",
        "\n",
        "# Convert the PIL mask image to a numpy array (some diffusion pipelines might require this)\n",
        "mask_array = np.array(mask_image)\n",
        "\n",
        "# You can display the created mask to verify\n",
        "# display(mask_image)\n",
        "\n",
        "# Now you can use this 'mask_image' or 'mask_array' with a diffusion pipeline that supports inpainting\n",
        "# The specific way to pass the mask depends on the pipeline's documentation\n",
        "# Example (this might need adjustment based on the actual pipeline):\n",
        "# modified_image = pipe(prompt=prompt, image=input_image, mask_image=mask_image).images[0]\n",
        "\n",
        "# You would then save or display the 'modified_image'\n",
        "# modified_image.save('/content/drive/My Drive/path/to/save/inpainted_image.jpg')"
      ],
      "execution_count": null,
      "outputs": [
        {
          "output_type": "error",
          "ename": "NameError",
          "evalue": "name 'input_image' is not defined",
          "traceback": [
            "\u001b[0;31m---------------------------------------------------------------------------\u001b[0m",
            "\u001b[0;31mNameError\u001b[0m                                 Traceback (most recent call last)",
            "\u001b[0;32m/tmp/ipython-input-3647020175.py\u001b[0m in \u001b[0;36m<cell line: 0>\u001b[0;34m()\u001b[0m\n\u001b[1;32m     10\u001b[0m \u001b[0;34m\u001b[0m\u001b[0m\n\u001b[1;32m     11\u001b[0m \u001b[0;31m# Get the dimensions of the original image\u001b[0m\u001b[0;34m\u001b[0m\u001b[0;34m\u001b[0m\u001b[0m\n\u001b[0;32m---> 12\u001b[0;31m \u001b[0mimg_width\u001b[0m\u001b[0;34m,\u001b[0m \u001b[0mimg_height\u001b[0m \u001b[0;34m=\u001b[0m \u001b[0minput_image\u001b[0m\u001b[0;34m.\u001b[0m\u001b[0msize\u001b[0m\u001b[0;34m\u001b[0m\u001b[0;34m\u001b[0m\u001b[0m\n\u001b[0m\u001b[1;32m     13\u001b[0m \u001b[0;34m\u001b[0m\u001b[0m\n\u001b[1;32m     14\u001b[0m \u001b[0;31m# Define the coordinates for the rectangular mask\u001b[0m\u001b[0;34m\u001b[0m\u001b[0;34m\u001b[0m\u001b[0m\n",
            "\u001b[0;31mNameError\u001b[0m: name 'input_image' is not defined"
          ]
        }
      ]
    },
    {
      "cell_type": "markdown",
      "metadata": {
        "id": "6885390b"
      },
      "source": [
        "Replace \"YOUR_HF_TOKEN\" with your actual token. **DO NOT LEAK API KEYS IN PRODUCTION ! ! !**"
      ]
    },
    {
      "cell_type": "markdown",
      "metadata": {
        "id": "eaee94f1"
      },
      "source": [
        "Once the upload is complete, you can use the uploaded file. If you uploaded an image named 'my_image.jpg', you can set `image_path = 'my_image.jpg'`. If you saved the uploaded file to your drive, use the path to that file (e.g., `/content/drive/My Drive/uploaded_images/my_image.jpg`). Update the `image_path` variable in the next cell accordingly."
      ]
    },
    {
      "cell_type": "markdown",
      "metadata": {
        "id": "3e1f1af0"
      },
      "source": [
        "Load an image from your Google Drive or the uploaded file. Replace this path with the actual path to your image. Also, replace the path for saving the modified image with where you want to save the result."
      ]
    },
    {
      "cell_type": "markdown",
      "metadata": {
        "id": "ed497caf"
      },
      "source": [
        "Load an image to display. You can use the path to the image you uploaded or from your drive."
      ]
    },
    {
      "cell_type": "markdown",
      "metadata": {
        "id": "5e42df3a"
      },
      "source": [
        "This only prints coordinates. It does not create a mask image. You would need to use these coordinates manually if you were defining a mask region by coordinates."
      ]
    },
    {
      "cell_type": "markdown",
      "metadata": {
        "id": "bceb9eee"
      },
      "source": [
        "This code assumes you have the original image loaded as `input_image` from a previous cell and you have the coordinates you want to use for the mask (e.g., `x1, y1, x2, y2`).\n",
        "\n",
        "Replace the placeholder coordinates with the actual coordinates you obtained.\n",
        "\n",
        "You can display the created mask to verify it.\n",
        "\n",
        "Now you can use this `mask_image` or `mask_array` with a diffusion pipeline that supports inpainting. The specific way to pass the mask depends on the pipeline's documentation."
      ]
    }
  ]
}